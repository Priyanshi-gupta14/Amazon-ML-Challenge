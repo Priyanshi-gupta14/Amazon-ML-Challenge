{
 "cells": [
  {
   "cell_type": "markdown",
   "metadata": {},
   "source": [
    "## Amazon ML Challenge\n",
    "\n",
    "#### Index\n",
    "- Libraries and Modules\n",
    "- Importing Data\n",
    "- Creating function\n",
    "- Straitified Data Sampling\n",
    "- Cleaning\n",
    "- Model and Training\n",
    "- Testing Final Result"
   ]
  },
  {
   "cell_type": "markdown",
   "metadata": {},
   "source": [
    "## Libraries and Modules"
   ]
  },
  {
   "cell_type": "code",
   "execution_count": null,
   "metadata": {},
   "outputs": [],
   "source": [
    "import pandas as pd\n",
    "import numpy as np\n",
    "\n",
    "#sklearn\n",
    "from sklearn.model_selection import train_test_split\n",
    "from sklearn.pipeline import Pipeline\n",
    "from sklearn.feature_extraction.text import CountVectorizer, TfidfTransformer\n",
    "from sklearn.svm import LinearSVC\n",
    "from sklearn.metrics import accuracy_score, classification_report\n",
    "from sklearn.model_selection import StratifiedShuffleSplit\n",
    "\n",
    "import pickle\n",
    "import string\n",
    "import re\n",
    "\n",
    "#ntlk\n",
    "from nltk.corpus import stopwords  \n",
    "from nltk.stem import PorterStemmer\n",
    "from nltk.tokenize import TweetTokenizer\n",
    "token = TweetTokenizer()\n",
    "stemmer = PorterStemmer()\n",
    "stopwords_english = stopwords.words('english')"
   ]
  },
  {
   "cell_type": "markdown",
   "metadata": {},
   "source": [
    "## Importing Data"
   ]
  },
  {
   "cell_type": "code",
   "execution_count": null,
   "metadata": {},
   "outputs": [],
   "source": [
    "train = pd.read_csv(\"train.csv\",escapechar=\"\\\\\",quoting = 3)\n",
    "test = pd.read_csv(\"test.csv\"escapechar=\"\\\\\",quoting = 3)"
   ]
  },
  {
   "cell_type": "markdown",
   "metadata": {},
   "source": [
    "## Creating helper function"
   ]
  },
  {
   "cell_type": "code",
   "execution_count": null,
   "metadata": {},
   "outputs": [],
   "source": [
    "# Creating Product Column\n",
    "def create_product(df):\n",
    "    df[\"BULLET_POINTS\"].fillna(\"\",inplace=True)\n",
    "    df[\"DESCRIPTION\"].fillna(\"\",inplace=True)\n",
    "    df[\"TITLE\"].fillna(\"\",inplace=True)\n",
    "    df[\"Products\"] = df[\"BULLET_POINTS\"] + \" \" + df[\"DESCRIPTION\"] + \" \" + df[\"TITLE\"]\n",
    "    df.drop([\"BULLET_POINTS\",\"DESCRIPTION\",\"TITLE\"],axis = 1,inplace=True)\n",
    "\n",
    "# Cleaning text\n",
    "def clean_data(data):\n",
    "    X = data.to_numpy()\n",
    "    for i in range(X.shape[0]):\n",
    "        X[i] = X[i].lower()\n",
    "    X = list(X)\n",
    "    for i in range(len(X)):\n",
    "        X[i] = re.sub(r'^RT[\\s]+', '', X[i])\n",
    "        X[i] = re.sub(r'https?:\\/\\/.*[\\r\\n]*$-', '', X[i])\n",
    "        X[i] = re.sub(r'#', '', X[i])\n",
    "    for i in range(len(X)):\n",
    "        X[i] = token.tokenize(X[i])\n",
    "    X_clean = []\n",
    "    for i in range(len(X)):\n",
    "        new = []\n",
    "        for word in X[i]:\n",
    "            if(word not in stopwords_english and word not in string.punctuation):\n",
    "                new.append(word)\n",
    "        X_clean.append(new)\n",
    "    for i in range(len(X_clean)):\n",
    "        for j in range(len(X_clean[i])):\n",
    "            X_clean[i][j] = stemmer.stem(X_clean[i][j])\n",
    "        if(i%1000 == 0):\n",
    "            print(i)\n",
    "    X_sentence = []\n",
    "    for i in range(len(X_clean)):\n",
    "        temp = \"\"\n",
    "        for j in range(len(X_clean[i])):\n",
    "            temp = temp + \" \" + X_clean[i][j]\n",
    "        X_sentence.append(temp)\n",
    "    return X_sentence\n",
    "\n",
    "# Creating prection csv files\n",
    "def create(i,model):\n",
    "    y_pred = model.predict(test[\"Products_clean\"])\n",
    "    B = pd.DataFrame({\"PRODUCT_ID\":test[\"PRODUCT_ID\"],\"BROWSE_NODE_ID\":y_pred})\n",
    "    B.to_csv(\"PATS\"+i+\".csv\",index=False)"
   ]
  },
  {
   "cell_type": "markdown",
   "metadata": {},
   "source": [
    "## Stratified Data Sampling"
   ]
  },
  {
   "cell_type": "code",
   "execution_count": null,
   "metadata": {},
   "outputs": [],
   "source": [
    "create_product(train)"
   ]
  },
  {
   "cell_type": "code",
   "execution_count": null,
   "metadata": {},
   "outputs": [],
   "source": [
    "split = StratifiedShuffleSplit(n_splits=1, train_size=0.30 )\n",
    "for train_index,rest_index in split.split(train, train[\"BROWSE_NODE_ID\"]):\n",
    "     strat_train_set = train.loc[train_index]"
   ]
  },
  {
   "cell_type": "markdown",
   "metadata": {},
   "source": [
    "## Cleaning"
   ]
  },
  {
   "cell_type": "code",
   "execution_count": null,
   "metadata": {},
   "outputs": [],
   "source": [
    "create_product(test)"
   ]
  },
  {
   "cell_type": "code",
   "execution_count": null,
   "metadata": {},
   "outputs": [],
   "source": [
    "strat_train_set[\"Products_clean\"] = clean_data(strat_train_set[\"Products\"])\n",
    "test[\"Products_clean\"] = clean_data(test[\"Products\"])"
   ]
  },
  {
   "cell_type": "markdown",
   "metadata": {},
   "source": [
    "## Model and Training"
   ]
  },
  {
   "cell_type": "code",
   "execution_count": null,
   "metadata": {},
   "outputs": [],
   "source": [
    "model = Pipeline([('vect', CountVectorizer(min_df=5, ngram_range=(1,2))),\n",
    "                  ('tfidf', TfidfTransformer()),\n",
    "                  ('model',LinearSVC(verbose = 1)) ])"
   ]
  },
  {
   "cell_type": "code",
   "execution_count": null,
   "metadata": {},
   "outputs": [],
   "source": [
    "model.fit(strat_train_set[\"Products_clean\"],strat_train_set[\"BROWSE_NODE_ID\"])"
   ]
  },
  {
   "cell_type": "markdown",
   "metadata": {},
   "source": [
    "## Final Result"
   ]
  },
  {
   "cell_type": "code",
   "execution_count": null,
   "metadata": {},
   "outputs": [],
   "source": [
    "create(\"1\",model)"
   ]
  }
 ],
 "metadata": {
  "kernelspec": {
   "display_name": "Python 3 (ipykernel)",
   "language": "python",
   "name": "python3"
  },
  "language_info": {
   "codemirror_mode": {
    "name": "ipython",
    "version": 3
   },
   "file_extension": ".py",
   "mimetype": "text/x-python",
   "name": "python",
   "nbconvert_exporter": "python",
   "pygments_lexer": "ipython3",
   "version": "3.7.3"
  }
 },
 "nbformat": 4,
 "nbformat_minor": 2
}
